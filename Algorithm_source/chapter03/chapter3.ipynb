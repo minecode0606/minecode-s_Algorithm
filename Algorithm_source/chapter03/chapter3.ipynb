{
 "cells": [
  {
   "cell_type": "markdown",
   "metadata": {
    "collapsed": true,
    "pycharm": {
     "name": "#%% md\n"
    }
   },
   "source": [
    "# 3. 반복하는 알고리즘\n"
   ]
  },
  {
   "cell_type": "markdown",
   "source": [
    "## 3.1 반복구조에 대하여"
   ],
   "metadata": {
    "collapsed": false,
    "pycharm": {
     "name": "#%% md\n"
    }
   }
  },
  {
   "cell_type": "markdown",
   "source": [
    "반복구조는 앞서 살펴보았던 3개의 알고리즘 구조중 가장 복잡하다고 볼수있고 가장 많이 언급되는 구조이다.\n",
    "반복 구조는 영원히 반복하는 무한 루프(infinite loop),\n",
    "일정 시간이나 횟수를 반복하고 멈추는 카운터 루프(counterloop),\n",
    "어떤 조건이 충족되면 멈추는 와일 루프(while loop)로 나눌수 있다."
   ],
   "metadata": {
    "collapsed": false,
    "pycharm": {
     "name": "#%% md\n"
    }
   }
  },
  {
   "cell_type": "markdown",
   "source": [
    "## 3.2 1부터 n까지 정수의 합 구하기\n",
    "1부터 n까지 정수의 합을 구하는 알고리즘을 살펴보겠습니다. n값이 2이면 1 + 2, n 값이 3이면 1 + 2 + 3 입니다.\n",
    "즉, 1 + 2 + **** + n의 값을 구하면 된다. 아래는 1부터 n까지 정수의 합을 구하는 프로그램이다.\n",
    "(이 장에서 모든 n의 입력값은 5로 고정한다.)"
   ],
   "metadata": {
    "collapsed": false
   }
  },
  {
   "cell_type": "code",
   "execution_count": 1,
   "outputs": [
    {
     "name": "stdout",
     "output_type": "stream",
     "text": [
      "1부터 n까지 정수의 합을 구합니다.\n",
      "1부터 5까지 정수의 합은 15입니다.\n"
     ]
    }
   ],
   "source": [
    "# 1부터 n까지 정수의 합 구하기 1(while 문)\n",
    "\n",
    "print('1부터 n까지 정수의 합을 구합니다.')\n",
    "n = int(input('n값을 입력하세요.: '))\n",
    "\n",
    "sum = 0\n",
    "i = 1\n",
    "\n",
    "while i <= n:  # i가 n보다 작거나 같은 동안 반복\n",
    "    sum += i   # sum에 i를 더함\n",
    "    i += 1     # i에 1을 더함\n",
    "\n",
    "print(f'1부터 {n}까지 정수의 합은 {sum}입니다.')\n"
   ],
   "metadata": {
    "collapsed": false,
    "pycharm": {
     "name": "#%%\n"
    }
   }
  },
  {
   "cell_type": "markdown",
   "source": [
    "하지만 변수가 하나만 있을 경우, while문보다 for문을 사용하는것이 좋습니다. 기본적으로 while문의 구조는"
   ],
   "metadata": {
    "collapsed": false
   }
  },
  {
   "cell_type": "code",
   "execution_count": null,
   "outputs": [],
   "source": [
    "while True: # <- boolean\n",
    "    pass # <-code"
   ],
   "metadata": {
    "collapsed": false,
    "pycharm": {
     "name": "#%%\n"
    }
   }
  },
  {
   "cell_type": "markdown",
   "source": [
    "로, 어떠한 조건이 충족되면 반복문을 빠져나가는 형태를 가진다. \n",
    "하지만 for문의 구조는 이터러블 겍체(반복할 수 있는 겍체)를 특정한 변수에 넣으며 반복문을 돌리는 카운터 루프이다.\n",
    "아래 예시는 for문을 사용하여 1부터 n까지 정수의 합을 구하는 프로그램이다."
   ],
   "metadata": {
    "collapsed": false
   }
  },
  {
   "cell_type": "code",
   "execution_count": 2,
   "outputs": [
    {
     "name": "stdout",
     "output_type": "stream",
     "text": [
      "1부터 n까지의 합을 구합니다.\n",
      "1부터 5까지 정수의 합은 15입니다.\n"
     ]
    }
   ],
   "source": [
    "# 1부터 n까지의 합 구하기 2(for 문)\n",
    "\n",
    "print('1부터 n까지의 합을 구합니다.')\n",
    "n = int(input('n값을 입력하세요.: '))\n",
    "\n",
    "sum = 0\n",
    "for i in range(1, n + 1):\n",
    "    sum += i  # sum에 i를 더함\n",
    "\n",
    "print(f'1부터 {n}까지 정수의 합은 {sum}입니다.')"
   ],
   "metadata": {
    "collapsed": false,
    "pycharm": {
     "name": "#%%\n"
    }
   }
  },
  {
   "cell_type": "markdown",
   "source": [
    "## 3.3 연속하는 정수의 합을 구하기 위해 값 정렬하기\n",
    "연속하는 정수의 합을 구할려면 "
   ],
   "metadata": {
    "collapsed": false
   }
  }
 ],
 "metadata": {
  "kernelspec": {
   "display_name": "Python 3",
   "language": "python",
   "name": "python3"
  },
  "language_info": {
   "codemirror_mode": {
    "name": "ipython",
    "version": 2
   },
   "file_extension": ".py",
   "mimetype": "text/x-python",
   "name": "python",
   "nbconvert_exporter": "python",
   "pygments_lexer": "ipython2",
   "version": "2.7.6"
  }
 },
 "nbformat": 4,
 "nbformat_minor": 0
}