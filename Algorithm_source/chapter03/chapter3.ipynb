{
 "cells": [
  {
   "cell_type": "markdown",
   "metadata": {
    "collapsed": true,
    "pycharm": {
     "name": "#%% md\n"
    }
   },
   "source": [
    "# 3. 반복하는 알고리즘\n"
   ]
  },
  {
   "cell_type": "markdown",
   "source": [
    "## 3.1 반복구조에 대하여"
   ],
   "metadata": {
    "collapsed": false,
    "pycharm": {
     "name": "#%% md\n"
    }
   }
  },
  {
   "cell_type": "markdown",
   "source": [
    "반복구조는 앞서 살펴보았던 3개의 알고리즘 구조중 가장 복잡하다고 볼수있고 가장 많이 언급되는 구조이다.\n",
    "반복 구조는 영원히 반복하는 무한 루프(infinite loop),\n",
    "일정 시간이나 횟수를 반복하고 멈추는 카운터 루프(counterloop),\n",
    "어떤 조건이 충족되면 멈추는 와일 루프(while loop)로 나눌수 있다."
   ],
   "metadata": {
    "collapsed": false,
    "pycharm": {
     "name": "#%% md\n"
    }
   }
  },
  {
   "cell_type": "markdown",
   "source": [
    "## 1부터 n까지 정수의 합 구하기\n",
    "1부터 n까지 정수의 합을 구하는 알고리즘을 살펴보겠습니다. n값이 2이면 1 + 2, n 값이 3이면 1 + 2 + 3 입니다.\n",
    "즉, 1 + 2 + **** + n의 값을 구하면 된다. 아래는 1부터 n까지 정수의 합을 구하는 프로그램이다."
   ],
   "metadata": {
    "collapsed": false
   }
  },
  {
   "cell_type": "code",
   "execution_count": 1,
   "outputs": [
    {
     "name": "stdout",
     "output_type": "stream",
     "text": [
      "1부터 n까지 정수의 합을 구합니다.\n",
      "1부터 5까지 정수의 합은 15입니다.\n"
     ]
    }
   ],
   "source": [
    "# 1부터 n까지 정수의 합 구하기 1(while 문)\n",
    "\n",
    "print('1부터 n까지 정수의 합을 구합니다.')\n",
    "n = int(input('n값을 입력하세요.: '))\n",
    "\n",
    "sum = 0\n",
    "i = 1\n",
    "\n",
    "while i <= n:  # i가 n보다 작거나 같은 동안 반복\n",
    "    sum += i   # sum에 i를 더함\n",
    "    i += 1     # i에 1을 더함\n",
    "\n",
    "print(f'1부터 {n}까지 정수의 합은 {sum}입니다.')\n"
   ],
   "metadata": {
    "collapsed": false,
    "pycharm": {
     "name": "#%%\n"
    }
   }
  }
 ],
 "metadata": {
  "kernelspec": {
   "display_name": "Python 3",
   "language": "python",
   "name": "python3"
  },
  "language_info": {
   "codemirror_mode": {
    "name": "ipython",
    "version": 2
   },
   "file_extension": ".py",
   "mimetype": "text/x-python",
   "name": "python",
   "nbconvert_exporter": "python",
   "pygments_lexer": "ipython2",
   "version": "2.7.6"
  }
 },
 "nbformat": 4,
 "nbformat_minor": 0
}