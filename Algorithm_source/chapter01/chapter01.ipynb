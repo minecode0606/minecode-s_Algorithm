{
 "cells": [
  {
   "cell_type": "markdown",
   "source": [
    "# 소개\n",
    "실제로 우리는 태어나는 순간부터 알고리즘을 접하고 알고리즘대로 생활한다.\n",
    "\n",
    "바꾸어 말한다면, 우리는 태어날떄부터\n",
    "알고리즘이 무엇인지는 몰라도 알고리즘대로 생활하고 있다는 것이다.\n",
    "\n",
    "한가지 유명한 예시를 들어보자, 우리는 지금 매우 배가 고프다. (배고프지 않아도 배고프다고 가정하자)\n",
    "그리하여 우리는 라면을 끓여서 먹으려고 한다. 라면을 끓이는 간단한 순서도는 이렇다.\n",
    "![ramen_picture](https://github.com/minecode0606/minecode-s_Algorithm/blob/main/Pictures/Chapter%201/Ramen.png)\n",
    "\n",
    "하지만 라면을 끓이는 방법은 사람마다 다르다. 누구는 3분만 끓여 일명 꼬들면으로 먹는 반면 누구는 계란, 파 이외에 김치,\n",
    "각종 해산물을 넣기도 한다. 이저럼 알고리즘을 짜는 방식은 자의적이여서 같은 결과를 계산하는데 무수히 많은 알고리즘이 \n",
    "나올 수 있다."
   ],
   "metadata": {
    "collapsed": false
   }
  }
 ],
 "metadata": {
  "kernelspec": {
   "display_name": "Python 3",
   "language": "python",
   "name": "python3"
  },
  "language_info": {
   "codemirror_mode": {
    "name": "ipython",
    "version": 2
   },
   "file_extension": ".py",
   "mimetype": "text/x-python",
   "name": "python",
   "nbconvert_exporter": "python",
   "pygments_lexer": "ipython2",
   "version": "2.7.6"
  }
 },
 "nbformat": 4,
 "nbformat_minor": 0
}