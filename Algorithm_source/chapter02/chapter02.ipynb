{
 "cells": [
  {
   "cell_type": "markdown",
   "source": [
    "# 2. 알고리즘의 기본 구조\n",
    "이번 장에서는 알고리즘의 모든것을 이루는 기본 구조를 살펴보도록 하겠습니다."
   ],
   "metadata": {
    "collapsed": false
   }
  },
  {
   "cell_type": "markdown",
   "source": [
    "## 2.1 순차구조\n",
    "일반적으로 순차 구조로만 알고리즘을 짜는 경우는 거의 없습니다. 하지만 프로그램의 흐름을 구성하는 기본적인 구조가 순차 구조이며\n",
    "거의 모든 프로그래밍 언어는 순차 구조에 대한 특별한 명령어가 없이 기본적인 흐름으로 채택하는 매우 중요한 구조라고 할수 있습니다."
   ],
   "metadata": {
    "collapsed": false,
    "pycharm": {
     "name": "#%% md\n"
    }
   }
  },
  {
   "cell_type": "markdown",
   "source": [
    "## 2.1.1 순차구조란?\n",
    "순차 구조는 프로그램을 작성하는 가장 기본적인 구조입니다. 쓰여진 순서 혹은 연결선의 방향대로 알고리즘 혹은 프로그램을 실행합니다.\n",
    "\n",
    "아래 간단한 예시를 통해 순차구조가 무엇인지 알아보겠습니다."
   ],
   "metadata": {
    "collapsed": false
   }
  },
  {
   "cell_type": "code",
   "execution_count": 1,
   "outputs": [
    {
     "name": "stdout",
     "output_type": "stream",
     "text": [
      "*\n",
      "**\n",
      "***\n",
      "****\n",
      "*****\n",
      "******\n",
      "*******\n",
      "********\n",
      "*********\n",
      "**********\n"
     ]
    }
   ],
   "source": [
    "# 이 코드는 *을 이용해 밑면과 높이가 각각 10인 직각 삼각형을 출력하는 코드입니다.\n",
    "print(\"*\")\n",
    "print(\"**\")\n",
    "print(\"***\")\n",
    "print(\"****\")\n",
    "print(\"*****\")\n",
    "print(\"******\")\n",
    "print(\"*******\")\n",
    "print(\"********\")\n",
    "print(\"*********\")\n",
    "print(\"**********\")"
   ],
   "metadata": {
    "collapsed": false,
    "pycharm": {
     "name": "#%%\n"
    }
   }
  },
  {
   "cell_type": "markdown",
   "source": [
    "위처럼 순차구조는 맨 윗줄부터 쓰여진 순서로 차근차근 순차적으로 실행된다는 것을 볼수 있습니다.\n"
   ],
   "metadata": {
    "collapsed": false
   }
  }
 ],
 "metadata": {
  "kernelspec": {
   "display_name": "Python 3",
   "language": "python",
   "name": "python3"
  },
  "language_info": {
   "codemirror_mode": {
    "name": "ipython",
    "version": 2
   },
   "file_extension": ".py",
   "mimetype": "text/x-python",
   "name": "python",
   "nbconvert_exporter": "python",
   "pygments_lexer": "ipython2",
   "version": "2.7.6"
  }
 },
 "nbformat": 4,
 "nbformat_minor": 0
}