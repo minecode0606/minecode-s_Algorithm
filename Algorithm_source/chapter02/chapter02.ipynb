{
 "cells": [
  {
   "cell_type": "markdown",
   "source": [
    "# 2. 알고리즘의 기본 구조\n",
    "이번장부터는 드디어 이제 프로그래밍을 해 보도록 하겠다.\n",
    "알고리즘을 이루는 틀은 크게 순차구조, 선택구조, 반복구조가 있다. 이번 장에서는 알고리즘을 이루는 이 구조들을 중점적으로\n",
    "다루어 보도록 하겠다."
   ],
   "metadata": {
    "collapsed": false
   }
  },
  {
   "cell_type": "markdown",
   "source": [
    "## 2.1 순차구조\n",
    "일반적으로 순차 구조로만 알고리즘을 짜는 경우는 거의 없다. 하지만 프로그램의 흐름을 구성하는 기본적인 구조가 순차 구조이며\n",
    "거의 모든 프로그래밍 언어는 순차 구조에 대한 특별한 명령어가 없이 기본적인 흐름으로 채택하는 매우 중요한 구조라고 할수 있다.\n",
    "순차구조는 맨 윗줄부터 실행되는데,\n",
    "아래 간단한 예시를 통해 순차구조가 무엇인지 알아보겠다.\n"
   ],
   "metadata": {
    "collapsed": false,
    "pycharm": {
     "name": "#%% md\n"
    }
   }
  },
  {
   "cell_type": "code",
   "execution_count": 4,
   "outputs": [
    {
     "name": "stdout",
     "output_type": "stream",
     "text": [
      "1\n",
      "2\n",
      "3\n",
      "4\n",
      "5\n"
     ]
    }
   ],
   "source": [
    "# 이 코드는 순서대로 12345를 출력하는 프로그램이다.\n",
    "\n",
    "print(\"1\")\n",
    "print(\"2\")\n",
    "print(\"3\")\n",
    "print(\"4\")\n",
    "print(\"5\")"
   ],
   "metadata": {
    "collapsed": false,
    "pycharm": {
     "name": "#%%\n"
    }
   }
  },
  {
   "cell_type": "markdown",
   "source": [
    "위처럼 순차구조는 맨 윗줄부터 쓰여진 순서로 차근차근 순차적으로 실행된다는 것을 볼수 있다."
   ],
   "metadata": {
    "collapsed": false
   }
  },
  {
   "cell_type": "markdown",
   "source": [
    "## 2.2 선택구조\n",
    "앞서 언급했던 순차구조처럼 프로그램의 일반적 구조중 하나인 선택구조는 조건에 결과에 따라 명령을 실행하는 구조를 뜻한다.\n",
    "그리하여 어떤 조건을 설정해 주느냐에 따라 그 결과도 달리지게 된다. 이번에도 아래 간단한 예시를 통해 무엇인지 알아보자.\n"
   ],
   "metadata": {
    "collapsed": false
   }
  },
  {
   "cell_type": "code",
   "execution_count": 6,
   "outputs": [
    {
     "name": "stdout",
     "output_type": "stream",
     "text": [
      "현재 시간은 23시로 오후입니다.\n"
     ]
    }
   ],
   "source": [
    "# datetime 모듈을 사용하여 지금이 오후인지 오전인지 구분합니다.\n",
    "import datetime\n",
    "\n",
    "now = datetime.datetime.now()\n",
    "\n",
    "# 시간구분\n",
    "if now.hour < 12:\n",
    "    print(f\"현재 시간은 {now.hour}시로 오전입니다.\")\n",
    "else:\n",
    "    print(f\"현재 시간은 {now.hour}시로 오후입니다.\")"
   ],
   "metadata": {
    "collapsed": false,
    "pycharm": {
     "name": "#%%\n"
    }
   }
  },
  {
   "cell_type": "markdown",
   "source": [
    "이처럼 선택구조는 조건에 따라 결과를 선택하는 구조이다."
   ],
   "metadata": {
    "collapsed": false
   }
  },
  {
   "cell_type": "markdown",
   "source": [
    "## 2.3 반복구조\n",
    "반복구조는 같은 동작을 여러 번 수행할떄 표현하는 구조이다. 컴퓨터 프로그램밍에서 매우 자주 사용되는 용어이고 매우 중요하기 때문에\n",
    "다음장에서 더욱 자세히 다루도록 하겠다. 아래 코드는 간단하게 *을 직각으로 10만큼 출력하는 코드이다."
   ],
   "metadata": {
    "collapsed": false
   }
  },
  {
   "cell_type": "code",
   "execution_count": 7,
   "outputs": [
    {
     "name": "stdout",
     "output_type": "stream",
     "text": [
      "*\n",
      "**\n",
      "***\n",
      "****\n",
      "*****\n",
      "******\n",
      "*******\n",
      "********\n",
      "*********\n",
      "**********\n"
     ]
    }
   ],
   "source": [
    "# 가로와 세로의 *의 갯수가 10인 삼각형을 출력합니다.\n",
    "for i in range(1, 11):\n",
    "    print(\"*\" * i)\n"
   ],
   "metadata": {
    "collapsed": false,
    "pycharm": {
     "name": "#%%\n"
    }
   }
  },
  {
   "cell_type": "markdown",
   "source": [
    "위 코드는 for 문을 돌리면서 *을 i 만큼 곱한후 출력한다. 자세한 내용은 다음장에서 살펴보도록 하겠다."
   ],
   "metadata": {
    "collapsed": false,
    "pycharm": {
     "name": "#%% md\n"
    }
   }
  }
 ],
 "metadata": {
  "kernelspec": {
   "display_name": "Python 3",
   "language": "python",
   "name": "python3"
  },
  "language_info": {
   "codemirror_mode": {
    "name": "ipython",
    "version": 2
   },
   "file_extension": ".py",
   "mimetype": "text/x-python",
   "name": "python",
   "nbconvert_exporter": "python",
   "pygments_lexer": "ipython2",
   "version": "2.7.6"
  }
 },
 "nbformat": 4,
 "nbformat_minor": 0
}